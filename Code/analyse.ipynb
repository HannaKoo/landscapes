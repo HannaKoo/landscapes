{
 "cells": [
  {
   "cell_type": "code",
   "execution_count": 1,
   "metadata": {},
   "outputs": [],
   "source": [
    "import xml.etree.ElementTree as ET\n",
    "\n",
    "tree = ET.parse('../Data/dataset_landscape.xml')\n"
   ]
  },
  {
   "cell_type": "code",
   "execution_count": 3,
   "metadata": {},
   "outputs": [
    {
     "name": "stdout",
     "output_type": "stream",
     "text": [
      "{'nr': '39', 'nrDF': '2748', 'type': '', 'when': '1448-05-01', 'link': 'http://df.narc.fi/document/2748'}\n",
      "{'editor': 'Hausen', 'nrFMU3': '2748', '{http://www.w3.org/XML/1998/namespace}lang': 'sv'}\n",
      "{'status': 'bourgeois', 'gender': 'f', 'onlyone': 'y'}\n",
      "{}\n",
      "Original på pergament, med de beseglandes signet (FMS n:o 318, 155 och 319) välbehållna, svenska riksarkivet. Arwidssons Handlingar III n:o 65.\n",
      "{'source': 'SDHK', 'nrSDHK': '25328', '{http://www.w3.org/XML/1998/namespace}lang': 'sv'}\n",
      "{'editor': 'Hausen', '{http://www.w3.org/XML/1998/namespace}lang': 'sv-x-old'}\n",
      "{'{http://www.w3.org/XML/1998/namespace}lang': 'la'}\n",
      "\n",
      "Dokumentteja:  80\n"
     ]
    }
   ],
   "source": [
    "root = tree.getroot()\n",
    "sum = 0\n",
    "for c in list(root.iter()):  # Miksi list()? Tuntuisi toimivan ilmankin.\n",
    "  if c.tag==\"document\":\n",
    "    sum+=1\n",
    "  if sum == 34:\n",
    "    print(c.attrib)  # Onks tää dictionary? Miten sellaista käytetään?\n",
    "    if c.tag == \"folio\":\n",
    "      print(c.text)\n",
    "\n",
    "print(\"\\nDokumentteja: \", sum)\n"
   ]
  }
 ],
 "metadata": {
  "kernelspec": {
   "display_name": "base",
   "language": "python",
   "name": "python3"
  },
  "language_info": {
   "codemirror_mode": {
    "name": "ipython",
    "version": 3
   },
   "file_extension": ".py",
   "mimetype": "text/x-python",
   "name": "python",
   "nbconvert_exporter": "python",
   "pygments_lexer": "ipython3",
   "version": "3.9.13"
  },
  "orig_nbformat": 4,
  "vscode": {
   "interpreter": {
    "hash": "ad2bdc8ecc057115af97d19610ffacc2b4e99fae6737bb82f5d7fb13d2f2c186"
   }
  }
 },
 "nbformat": 4,
 "nbformat_minor": 2
}
