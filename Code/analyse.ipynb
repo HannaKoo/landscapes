{
 "cells": [
  {
   "cell_type": "code",
   "execution_count": 2,
   "metadata": {},
   "outputs": [],
   "source": [
    "import xml.etree.ElementTree as ET\n",
    "\n",
    "tree = ET.parse('../Data/dataset_landscape.xml')"
   ]
  },
  {
   "cell_type": "code",
   "execution_count": 3,
   "metadata": {},
   "outputs": [
    {
     "name": "stdout",
     "output_type": "stream",
     "text": [
      "55\n"
     ]
    }
   ],
   "source": [
    "root = tree.getroot()\n",
    "sum = 0\n",
    "# for c in list(root.iter()):\n",
    "for c in root.iter():\n",
    "  if c.tag==\"document\":\n",
    "    sum+=1\n",
    "print(sum)\n"
   ]
  }
 ],
 "metadata": {
  "kernelspec": {
   "display_name": "base",
   "language": "python",
   "name": "python3"
  },
  "language_info": {
   "codemirror_mode": {
    "name": "ipython",
    "version": 3
   },
   "file_extension": ".py",
   "mimetype": "text/x-python",
   "name": "python",
   "nbconvert_exporter": "python",
   "pygments_lexer": "ipython3",
   "version": "3.9.13"
  },
  "orig_nbformat": 4,
  "vscode": {
   "interpreter": {
    "hash": "72b889ad93037ae70f37528eb5a804eb17c9c64ca9c64099587be987f84bd47c"
   }
  }
 },
 "nbformat": 4,
 "nbformat_minor": 2
}
