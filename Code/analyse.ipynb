{
 "cells": [
  {
   "cell_type": "code",
   "execution_count": 1,
   "metadata": {},
   "outputs": [],
   "source": [
    "import xml.etree.ElementTree as ET\n",
    "\n",
    "tree = ET.parse('../Data/dataset_landscape.xml')"
   ]
  },
  {
   "cell_type": "code",
   "execution_count": 2,
   "metadata": {},
   "outputs": [
    {
     "name": "stdout",
     "output_type": "stream",
     "text": [
      "{'nr': '04', 'nrDF': '1124', 'type': '', 'when': '1379-08-14', 'link': 'http://df.narc.fi/document/1124'}\n",
      "{'editor': 'Hausen', 'nrFMU1': '1124', '{http://www.w3.org/XML/1998/namespace}lang': 'sv'}\n",
      "{'status': 'bourgeois', 'gender': 'm', 'onlyone': 'y'}\n",
      "{}\n",
      "{'source': 'SDHK', 'nr': '9479', '{http://www.w3.org/XML/1998/namespace}lang': 'sv'}\n",
      "{}\n",
      "{'editor': 'Hausen', '{http://www.w3.org/XML/1998/namespace}lang': 'la'}\n",
      "{'cat': 'built', 'type': 'building'}\n",
      "{'cat': 'built', 'type': 'building'}\n",
      "{'cat': 'built', 'type': 'building'}\n",
      "{'cat': 'built', 'type': 'building'}\n",
      "{'cat': 'built', 'type': 'building'}\n",
      "{'cat': 'built', 'type': 'building'}\n",
      "{'issued': 'Turku'}\n",
      "80\n"
     ]
    }
   ],
   "source": [
    "root = tree.getroot()\n",
    "sum = 0\n",
    "for c in list(root.iter()):\n",
    "  if c.tag==\"document\":\n",
    "    sum+=1\n",
    "  if sum == 3:\n",
    "    print(c.attrib)\n",
    "print(sum)\n"
   ]
  }
 ],
 "metadata": {
  "kernelspec": {
   "display_name": "base",
   "language": "python",
   "name": "python3"
  },
  "language_info": {
   "codemirror_mode": {
    "name": "ipython",
    "version": 3
   },
   "file_extension": ".py",
   "mimetype": "text/x-python",
   "name": "python",
   "nbconvert_exporter": "python",
   "pygments_lexer": "ipython3",
   "version": "3.9.13"
  },
  "orig_nbformat": 4,
  "vscode": {
   "interpreter": {
    "hash": "ad2bdc8ecc057115af97d19610ffacc2b4e99fae6737bb82f5d7fb13d2f2c186"
   }
  }
 },
 "nbformat": 4,
 "nbformat_minor": 2
}
